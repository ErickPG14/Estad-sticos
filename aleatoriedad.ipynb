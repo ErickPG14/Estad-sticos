{
 "cells": [
  {
   "cell_type": "code",
   "execution_count": 2,
   "metadata": {},
   "outputs": [
    {
     "name": "stdout",
     "output_type": "stream",
     "text": [
      "Defaulting to user installation because normal site-packages is not writeable\n",
      "Collecting scipy\n",
      "  Using cached scipy-1.14.1-cp312-cp312-win_amd64.whl.metadata (60 kB)\n",
      "Requirement already satisfied: numpy<2.3,>=1.23.5 in c:\\users\\erick\\appdata\\local\\packages\\pythonsoftwarefoundation.python.3.12_qbz5n2kfra8p0\\localcache\\local-packages\\python312\\site-packages (from scipy) (2.1.1)\n",
      "Using cached scipy-1.14.1-cp312-cp312-win_amd64.whl (44.5 MB)\n",
      "Installing collected packages: scipy\n",
      "Successfully installed scipy-1.14.1\n"
     ]
    }
   ],
   "source": [
    "!pip install scipy\n",
    "\n",
    "\n",
    "import numpy as np\n",
    "import pandas as pd\n",
    "from scipy import stats\n",
    "\n"
   ]
  },
  {
   "cell_type": "code",
   "execution_count": 3,
   "metadata": {},
   "outputs": [],
   "source": [
    "data = {\n",
    "    'Nombre': ['Fer', 'Ale', 'Alex Muñoz', 'Gael', 'Erick', 'Angie', 'Karla', 'Angel', 'Derik', 'Jose Jacal', 'Leo Dorantes', 'Lalo', 'Antonio', 'Luis Hurtado'],\n",
    "    'Altura (cm)': [180, 170, 170, 168, 165, 168, 170, 175, 174, 175, 171, 172, 170, 177],\n",
    "    'Sexo': ['M', 'M', 'M', 'M', 'M', 'F', 'F', 'M', 'M', 'M', 'M', 'M', 'M', 'M']\n",
    "}\n",
    "df = pd.DataFrame(data)\n"
   ]
  },
  {
   "cell_type": "code",
   "execution_count": 4,
   "metadata": {},
   "outputs": [
    {
     "name": "stdout",
     "output_type": "stream",
     "text": [
      "Prueba t para la media:\n",
      "Estadístico t = -3.0041\n",
      "Valor p = 0.0102\n",
      "Rechazamos H₀: La estatura media es diferente de 175 cm\n"
     ]
    }
   ],
   "source": [
    "media_esperada = 175\n",
    "t_stat, p_value = stats.ttest_1samp(df['Altura (cm)'], media_esperada)\n",
    "\n",
    "print(f\"Prueba t para la media:\\nEstadístico t = {t_stat:.4f}\\nValor p = {p_value:.4f}\")\n",
    "\n",
    "if p_value < 0.05:\n",
    "    print(\"Rechazamos H₀: La estatura media es diferente de 175 cm\")\n",
    "else:\n",
    "    print(\"No rechazamos H₀: No hay evidencia suficiente para decir que la estatura media es diferente de 175 cm\")\n"
   ]
  },
  {
   "cell_type": "code",
   "execution_count": 5,
   "metadata": {},
   "outputs": [
    {
     "name": "stdout",
     "output_type": "stream",
     "text": [
      "Prueba chi-cuadrado para la desviación estándar:\n",
      "Estadístico chi-cuadrado = 2.0836\n",
      "Valor p = 0.9997\n",
      "No rechazamos H₀: No hay evidencia suficiente para decir que la desviación estándar es mayor que 10 cm\n"
     ]
    }
   ],
   "source": [
    "std_esperada = 10\n",
    "n = len(df['Altura (cm)'])\n",
    "chi_square_stat = (n - 1) * np.var(df['Altura (cm)'], ddof=1) / std_esperada**2\n",
    "p_value_chi = stats.chi2.sf(chi_square_stat, n-1)\n",
    "\n",
    "print(f\"Prueba chi-cuadrado para la desviación estándar:\\nEstadístico chi-cuadrado = {chi_square_stat:.4f}\\nValor p = {p_value_chi:.4f}\")\n",
    "\n",
    "if p_value_chi < 0.05:\n",
    "    print(\"Rechazamos H₀: La desviación estándar es mayor que 10 cm\")\n",
    "else:\n",
    "    print(\"No rechazamos H₀: No hay evidencia suficiente para decir que la desviación estándar es mayor que 10 cm\")\n"
   ]
  },
  {
   "cell_type": "code",
   "execution_count": 6,
   "metadata": {},
   "outputs": [
    {
     "name": "stdout",
     "output_type": "stream",
     "text": [
      "Prueba t para diferencia de medias entre hombres y mujeres:\n",
      "Estadístico t = 2.0865\n",
      "Valor p = 0.0917\n",
      "No rechazamos H₀: No hay evidencia suficiente para decir que las estaturas promedio son diferentes\n"
     ]
    }
   ],
   "source": [
    "df_hombres = df[df['Sexo'] == 'M']\n",
    "df_mujeres = df[df['Sexo'] == 'F']\n",
    "\n",
    "t_stat, p_value = stats.ttest_ind(df_hombres['Altura (cm)'], df_mujeres['Altura (cm)'], equal_var=False)\n",
    "\n",
    "print(f\"Prueba t para diferencia de medias entre hombres y mujeres:\\nEstadístico t = {t_stat:.4f}\\nValor p = {p_value:.4f}\")\n",
    "\n",
    "if p_value < 0.05:\n",
    "    print(\"Rechazamos H₀: La estatura promedio de hombres y mujeres es diferente\")\n",
    "else:\n",
    "    print(\"No rechazamos H₀: No hay evidencia suficiente para decir que las estaturas promedio son diferentes\")\n"
   ]
  }
 ],
 "metadata": {
  "kernelspec": {
   "display_name": "Python 3",
   "language": "python",
   "name": "python3"
  },
  "language_info": {
   "codemirror_mode": {
    "name": "ipython",
    "version": 3
   },
   "file_extension": ".py",
   "mimetype": "text/x-python",
   "name": "python",
   "nbconvert_exporter": "python",
   "pygments_lexer": "ipython3",
   "version": "3.12.7"
  }
 },
 "nbformat": 4,
 "nbformat_minor": 2
}
